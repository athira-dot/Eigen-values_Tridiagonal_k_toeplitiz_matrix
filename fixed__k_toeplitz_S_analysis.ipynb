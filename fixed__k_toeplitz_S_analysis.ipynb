{
  "cells": [
    {
      "cell_type": "code",
      "execution_count": 1,
      "metadata": {
        "id": "0SDWbf9ClUOV"
      },
      "outputs": [],
      "source": [
        "import numpy as np\n",
        "import matplotlib.pyplot as plt\n",
        "import scipy.linalg as sc\n",
        "import cmath"
      ]
    },
    {
      "cell_type": "code",
      "execution_count": 2,
      "metadata": {
        "id": "VVP8W0MQnMQ_"
      },
      "outputs": [],
      "source": [
        "def matrix(n,diag,upper,lower):\n",
        "  k=len(diag)\n",
        "  dia=[]\n",
        "  for i in range(n):\n",
        "    for j in range(k):\n",
        "      dia.append(diag[j])\n",
        "\n",
        "  #UPPER\n",
        "  up=[]\n",
        "  for i in range(n):\n",
        "    for j in range(k):\n",
        "      up.append(upper[j])\n",
        "\n",
        "  up=up[:-1]\n",
        "  A=np.diag(dia)\n",
        "\n",
        "\n",
        "  for i in range(int(n*k)-1):\n",
        "    A[i][i+1]=up[i]\n",
        "    A[i+1][i]=up[i]\n",
        "\n",
        "  #N=int(n*k)\n",
        "  #A[0][0]=A[0][0]+pert[0]\n",
        "  #A[N-1][N-1]=A[N-1][N-1]+pert[1]\n",
        "\n",
        "  return(A)"
      ]
    },
    {
      "cell_type": "code",
      "execution_count": 3,
      "metadata": {
        "id": "CQgMzmlfulsi"
      },
      "outputs": [],
      "source": [
        "def matrix_fixed_bc(n,diag,upper,lower,pert):\n",
        "  k=len(diag)\n",
        "  dia=[]\n",
        "  for i in range(n):\n",
        "    for j in range(k):\n",
        "      dia.append(diag[j])\n",
        "\n",
        "  #UPPER\n",
        "  up=[]\n",
        "  for i in range(n):\n",
        "    for j in range(k):\n",
        "      up.append(upper[j])\n",
        "\n",
        "  up=up[:-1]\n",
        "  A=np.diag(dia)\n",
        "\n",
        "\n",
        "  for i in range(int(n*k)-1):\n",
        "    A[i][i+1]=up[i]\n",
        "    A[i+1][i]=up[i]\n",
        "\n",
        "  N=int(n*k)\n",
        "  A[0][0]=A[0][0]+pert[0]\n",
        "  A[N-1][N-1]=A[N-1][N-1]+pert[1]\n",
        "\n",
        "  return(A)"
      ]
    },
    {
      "cell_type": "code",
      "execution_count": 4,
      "metadata": {
        "id": "SmJmqm82mCJd"
      },
      "outputs": [],
      "source": [
        "def pert(n,k):\n",
        "  u=np.random.rand(int(n*k))#vec[0]#[0.1,0,100]\n",
        "  for i in range(1,int(n*k)-1):\n",
        "    u[i]=0\n",
        "  v=u#[0.1,0,100]\n",
        "  u,v=np.array(u)/(np.linalg.norm(u)),np.array(v)/(np.linalg.norm(v))\n",
        "  v=v.T\n",
        "\n",
        "  v=v.reshape(1,int(n*k))\n",
        "  u=u.reshape(int(n*k),1)\n",
        "\n",
        "  c=(u @ v)\n",
        "\n",
        "  return(c,u)\n",
        "\n",
        "#c=(u @ v.T)"
      ]
    },
    {
      "cell_type": "code",
      "execution_count": 5,
      "metadata": {
        "id": "O0Lf8aAevvLx"
      },
      "outputs": [],
      "source": [
        "def qgamma(diag_k,u_k,l_k,k):    #to find gamma  and  Qk(z)\n",
        "  a=diag_k\n",
        "  p=np.multiply(u_k,l_k)\n",
        "  Aim11 =1\n",
        "  Aim12 =0\n",
        "  Aim13 =0\n",
        "  Aim14 =1\n",
        "  for i in range(k):\n",
        "    Ai1 = [1,a[i]]\n",
        "    Ai2 = [0,-p[i]]\n",
        "    Ai3 = [0,1]\n",
        "    Ai4 =  [0,0]\n",
        "    P1 = np.convolve(Aim11,Ai1) +np.convolve(Aim12,Ai3)\n",
        "    P2 = np.convolve(Aim11,Ai2) +np.convolve(Aim12,Ai4)\n",
        "    P3 = np.convolve(Aim13,Ai1) +np.convolve(Aim14,Ai3)\n",
        "    P4 = np.convolve(Aim13,Ai2) +np.convolve(Aim14,Ai4)\n",
        "    Aim11 = P1\n",
        "    Aim12 = P2\n",
        "    Aim13 = P3\n",
        "    Aim14 = P4\n",
        "    #print(P1,P2,P3,P4)\n",
        "    \n",
        "  q=P1+P4  #trace of Uk\n",
        "  gamma1=-np.prod(p)  #gamma1 is the negative of the determinant of Uk\n",
        "  P4=np.array(P4)\n",
        "  return(q,gamma1)"
      ]
    },
    {
      "cell_type": "code",
      "execution_count": 6,
      "metadata": {
        "id": "xlD1vmrOvvyI"
      },
      "outputs": [],
      "source": [
        "def chebeig(diag_k,u_k,l_k,k,t):      \n",
        "  n=int(k*t)\n",
        "  q,g=qgamma(diag_k,u_k,l_k,k)\n",
        "  #print(diag_k)\n",
        "  q=np.array(q,dtype=\"complex\")\n",
        "  #print(q,g)\n",
        "  tnroots=np.zeros(int(n/k),dtype=complex)\n",
        "  for l in range(1,int(n/k)+1):\n",
        "    tnroots[l-1]=1j*2*np.cos(np.pi/((n/k)+1)*(l))\n",
        "  #print(tnroots)\n",
        "  zcheb = []  #upto this fine\n",
        "  c0=q[k]\n",
        "  for i in range(int(n/k)):\n",
        "    q[k]=c0+((cmath.sqrt(g))*tnroots[i])\n",
        "    \n",
        "    zcheb=np.concatenate((zcheb,-np.roots(q)))  \n",
        "  #print(g)\n",
        "  #print(np.shape(zcheb))\n",
        "  return(zcheb)"
      ]
    },
    {
      "cell_type": "code",
      "execution_count": 7,
      "metadata": {
        "id": "mHfz5nblv0gu"
      },
      "outputs": [],
      "source": [
        "def thomas(A,d):    \n",
        "    m,n=np.shape(A)\n",
        "    a=np.diag(A,-1)\n",
        "    b=np.diag(A)\n",
        "    c=np.diag(A,1)\n",
        "    \n",
        "    a=np.array(a,dtype='complex')\n",
        "    b=np.array(b,dtype='complex')\n",
        "    c=np.array(c,dtype='complex')\n",
        "    d=np.array(d,dtype='complex')\n",
        "    x=np.zeros(m,dtype=\"complex\")\n",
        "    \n",
        "    #forward propogation\n",
        "    for i in range(m-1):\n",
        "        w=a[i]/b[i]\n",
        "        b[i+1]=b[i+1]-(w*c[i])\n",
        "        d[i+1]=d[i+1]-(w*d[i])\n",
        "        \n",
        "    #back substitution\n",
        "    \n",
        "    x[m-1]=d[m-1]/b[m-1]\n",
        "    \n",
        "    for i in range(m-2,-1,-1):\n",
        "        x[i]=(d[i]-(c[i]*x[i+1]))/b[i]\n",
        "        \n",
        "    return(x)"
      ]
    },
    {
      "cell_type": "code",
      "source": [
        "7./3-4./3-1"
      ],
      "metadata": {
        "colab": {
          "base_uri": "https://localhost:8080/"
        },
        "id": "atByR5P6k43R",
        "outputId": "e0d8f58a-4ee0-424a-b9b1-ab87ef4d8a1f"
      },
      "execution_count": 8,
      "outputs": [
        {
          "output_type": "execute_result",
          "data": {
            "text/plain": [
              "2.220446049250313e-16"
            ]
          },
          "metadata": {},
          "execution_count": 8
        }
      ]
    },
    {
      "cell_type": "code",
      "execution_count": 8,
      "metadata": {
        "id": "wsLC_bM-ODYc"
      },
      "outputs": [],
      "source": [
        "def inv_itr(A,muo):\n",
        "    e_m=7./3-4./3-1  #machine epsion\n",
        "    m,n=np.shape(A)\n",
        "    x=np.ones(m)#np.random.rand(m)\n",
        "    #print(x)\n",
        "    B=(A-muo*np.identity(m))\n",
        "    #check diagonal elements of B are zero or not.If it is zero, add some perturbation.\n",
        "    \n",
        "    for i in range(m):\n",
        "        if((B[i][i])==0):\n",
        "            B[i][i]=B[i][i]+(e_m*10)\n",
        "\n",
        "    for  i in range(10):\n",
        "        v=thomas(B,x)\n",
        "        if((np.linalg.norm(v))==0):\n",
        "            v=np.array(v)#/(np.linalg.norm(v))  #x is the eigen vector.\n",
        "        else:\n",
        "            v=np.array(v)/(np.linalg.norm(v))\n",
        "            \n",
        "    muo=np.transpose(v)@A@v   #muo is the eigen value\n",
        "    return(muo,v)  "
      ]
    },
    {
      "cell_type": "code",
      "execution_count": 9,
      "metadata": {
        "id": "KThO8La3i86G"
      },
      "outputs": [],
      "source": [
        "def qgamma_n(diag_k,u_k,l_k,k):    #to find gamma  and  Qk(z)\n",
        "  a=diag_k\n",
        "  p=np.multiply(u_k,l_k)\n",
        "  Aim11 =1\n",
        "  Aim12 =0\n",
        "  Aim13 =0\n",
        "  Aim14 =1\n",
        "  for i in range(k):\n",
        "    Ai1 = [1,a[i]]\n",
        "    Ai2 = [0,-p[i]]\n",
        "    Ai3 = [0,1]\n",
        "    Ai4 =  [0,0]\n",
        "    P1 = np.convolve(Aim11,Ai1) +np.convolve(Aim12,Ai3)\n",
        "    P2 = np.convolve(Aim11,Ai2) +np.convolve(Aim12,Ai4)\n",
        "    P3 = np.convolve(Aim13,Ai1) +np.convolve(Aim14,Ai3)\n",
        "    P4 = np.convolve(Aim13,Ai2) +np.convolve(Aim14,Ai4)\n",
        "    Aim11 = P1\n",
        "    Aim12 = P2\n",
        "    Aim13 = P3\n",
        "    Aim14 = P4\n",
        "    #print(P1,P2,P3,P4)\n",
        "    \n",
        "  q=P1+P4  #trace of Uk\n",
        "  gamma1=-np.prod(p)  #gamma1 is the negative of the determinant of Uk\n",
        "  P4=np.array(P4)\n",
        "  return(P1,P2,P3,P4)"
      ]
    },
    {
      "cell_type": "code",
      "execution_count": 10,
      "metadata": {
        "id": "VtsPq_D4jClh"
      },
      "outputs": [],
      "source": [
        "k=3\n",
        "diag=[0,0,0] \n",
        "upper=[0,0,1] #np.random.rand(k) #[5,4,1]#-\n",
        "lower=upper\n",
        "upper,lower,diag=np.array(upper),np.array(lower),np.array(diag)\n",
        "#val_cheb=chebeig(diag,upper,lower,k,n)"
      ]
    },
    {
      "cell_type": "code",
      "source": [
        "#for small n\n",
        "n=2\n",
        "k=len(diag)\n",
        "pert=[10,0]\n",
        "A=matrix(n,diag,upper,lower)\n",
        "val_cheb=chebeig(diag,upper,lower,k,n)\n",
        "val_cheb.sort()\n",
        "val_built,vec_built=np.linalg.eig(A)\n",
        "val_built.sort()\n",
        "\n",
        "A_fixed_bc=matrix_fixed_bc(n,diag,upper,lower,pert)\n",
        "val_built_fixed,vec_built_fixed=np.linalg.eig(A_fixed_bc)\n",
        "val_built_fixed.sort()"
      ],
      "metadata": {
        "id": "yeTrIlnQViXg"
      },
      "execution_count": 15,
      "outputs": []
    },
    {
      "cell_type": "code",
      "source": [
        "z=abs(val_cheb-val_built_fixed)\n",
        "\n",
        "#index which has the highest replacement\n",
        "ind_0=(np.where(z==max(z))[0])[0]\n",
        "z[ind_0]=0\n",
        "\n",
        "#index which has the second highest replacement\n",
        "ind_1=(np.where(z==max(z))[0])[0]\n",
        "\n",
        "val_cheb_1=val_cheb[ind_0]\n",
        "\n",
        "val_cheb_2=val_cheb[ind_1]\n",
        "\n",
        "val_b_1=val_built_fixed[ind_0]\n",
        "\n",
        "val_b_2=val_built_fixed[ind_1]"
      ],
      "metadata": {
        "id": "YOsvIEywky_H"
      },
      "execution_count": 16,
      "outputs": []
    },
    {
      "cell_type": "code",
      "source": [
        "inv_itr(A_fixed_bc,val_b_1)[0]"
      ],
      "metadata": {
        "colab": {
          "base_uri": "https://localhost:8080/"
        },
        "id": "oDJQN16JuWMC",
        "outputId": "6921873b-489c-41e7-e14f-6b85fe2d0e04"
      },
      "execution_count": 17,
      "outputs": [
        {
          "output_type": "execute_result",
          "data": {
            "text/plain": [
              "(10+0j)"
            ]
          },
          "metadata": {},
          "execution_count": 17
        }
      ]
    },
    {
      "cell_type": "code",
      "execution_count": null,
      "metadata": {
        "id": "bt7EKxxHOYZF"
      },
      "outputs": [],
      "source": [
        "N=[10,20,30,40,50,60,70,80,90,100]\n",
        "E_b=[]\n",
        "E_a=[]\n",
        "\n",
        "for n in N:\n",
        "  #perform direct replacement for large n\n",
        "\n",
        "\n",
        "  A=matrix(n,diag,upper,lower)\n",
        "  val_cheb=chebeig(diag,upper,lower,k,n)\n",
        "  val_cheb.sort()\n",
        "  val_built,vec_built=np.linalg.eig(A)\n",
        "  val_built.sort()\n",
        "\n",
        "  A_fixed_bc=matrix_fixed_bc(n,diag,upper,lower,pert)\n",
        "  val_built_fixed,vec_built_fixed=np.linalg.eig(A_fixed_bc)\n",
        "  val_built_fixed.sort()\n",
        "\n",
        "  #error before direct replacement\n",
        "  avg_abs_e_b=sum(abs(val_cheb-val_built_fixed))\n",
        "  avg_abs_e_b=avg_abs_e_b/(n*k)\n",
        "  E_b.append(avg_abs_e_b)\n",
        "\n",
        "\n",
        "  #direct replacement\n",
        "  z_0=abs(val_cheb-val_cheb_1)\n",
        "  ind_rep_0=(np.where(z_0==min(z_0))[0])[0]\n",
        "\n",
        "  z_1=abs(val_cheb-val_cheb_2)\n",
        "  ind_rep_1=(np.where(z_1==min(z_1))[0])[0]\n",
        "\n",
        "  val_cheb[ind_rep_0]=val_b_1\n",
        "  val_cheb[ind_rep_1]=val_b_2\n",
        "  val_cheb.sort()\n",
        "\n",
        "  #error after direct replacement\n",
        "  avg_abs_e_a=sum(abs(val_cheb-val_built_fixed))\n",
        "  avg_abs_e_a=avg_abs_e_a/(n*k)\n",
        "  E_a.append(avg_abs_e_a)"
      ]
    },
    {
      "cell_type": "code",
      "execution_count": null,
      "metadata": {
        "colab": {
          "base_uri": "https://localhost:8080/",
          "height": 283
        },
        "id": "5RQF88asPfqr",
        "outputId": "12004d7f-fee9-487c-b386-f598b11c725f"
      },
      "outputs": [
        {
          "output_type": "display_data",
          "data": {
            "text/plain": [
              "<Figure size 432x288 with 1 Axes>"
            ],
            "image/png": "[encoded data removed]"
          },
          "metadata": {
            "needs_background": "light"
          }
        }
      ],
      "source": [
        "#graphs\n",
        "plt.plot(N,E_a,\"o\",color=\"red\",label=\"direct_replacement\")\n",
        "plt.plot(N,E_b,\"*\",color=\"blue\",label=\"chebyshev approximation\")\n",
        "plt.plot(N,E_i,\"*\",color=\"green\",label=\"inverse_iteration\")\n",
        "plt.xlabel(\"n\")\n",
        "plt.ylabel(\"average absolute error\")\n",
        "plt.legend()\n",
        "\n",
        "plt.savefig(\"inv_itr_d=[0,0,0],l=[0,0,1],u=l,pert=10.png\")"
      ]
    },
    {
      "cell_type": "markdown",
      "source": [
        "Replacement with inverse iteration"
      ],
      "metadata": {
        "id": "0hlQvTsnyz4k"
      }
    },
    {
      "cell_type": "code",
      "source": [
        "N=[10,20,30,40,50,60,70,80,90,100]\n",
        "E_i=[]\n",
        "for n in N:\n",
        "  #perform direct replacement for large n\n",
        "  A=matrix(n,diag,upper,lower)\n",
        "  val_cheb=chebeig(diag,upper,lower,k,n)\n",
        "  val_cheb.sort()\n",
        "  val_built,vec_built=np.linalg.eig(A)\n",
        "  val_built.sort()\n",
        "\n",
        "  A_fixed_bc=matrix_fixed_bc(n,diag,upper,lower,pert)\n",
        "  val_built_fixed,vec_built_fixed=np.linalg.eig(A_fixed_bc)\n",
        "  val_built_fixed.sort()\n",
        "\n",
        "  #inverse iteration\n",
        "  z_0=abs(val_cheb-val_cheb_1)\n",
        "  ind_rep_0=(np.where(z_0==min(z_0))[0])[0]\n",
        "\n",
        "  z_1=abs(val_cheb-val_cheb_2)\n",
        "  ind_rep_1=(np.where(z_1==min(z_1))[0])[0]\n",
        "\n",
        "  val_cheb[ind_rep_0]=inv_itr(A_fixed_bc,val_b_1)[0]\n",
        "  #val_cheb[ind_rep_1]=inv_itr(A_fixed_bc,val_b_2)[0]\n",
        "  val_cheb.sort()\n",
        "\n",
        "  #error after direct replacement\n",
        "  avg_abs_e_i=sum(abs(val_cheb-val_built_fixed))\n",
        "  avg_abs_e_i=avg_abs_e_i/(n*k)\n",
        "  E_i.append(avg_abs_e_i)"
      ],
      "metadata": {
        "id": "4lWalyLXzIhz"
      },
      "execution_count": null,
      "outputs": []
    },
    {
      "cell_type": "code",
      "execution_count": null,
      "metadata": {
        "colab": {
          "base_uri": "https://localhost:8080/"
        },
        "id": "4UtPCJSHn0Cm",
        "outputId": "bbfc1332-ee3f-49a7-f67f-164b35daf3fa"
      },
      "outputs": [
        {
          "data": {
            "text/plain": [
              "32.282841076244395"
            ]
          },
          "execution_count": 105,
          "metadata": {},
          "output_type": "execute_result"
        }
      ],
      "source": [
        "val_b_s"
      ]
    },
    {
      "cell_type": "code",
      "execution_count": null,
      "metadata": {
        "colab": {
          "base_uri": "https://localhost:8080/"
        },
        "id": "mUxiblEZriQC",
        "outputId": "310518f4-88b4-4595-9b2d-8b2d30730102"
      },
      "outputs": [
        {
          "data": {
            "text/plain": [
              "(32.28284106903057+0j)"
            ]
          },
          "execution_count": 106,
          "metadata": {},
          "output_type": "execute_result"
        }
      ],
      "source": [
        "inv_itr(A_fixed_bc,val_b_s)[0]"
      ]
    },
    {
      "cell_type": "code",
      "execution_count": 12,
      "metadata": {
        "id": "Ut-sQutDWeOB"
      },
      "outputs": [],
      "source": [
        "A_bar,B,C,D=qgamma_n(diag,upper,lower,k)"
      ]
    },
    {
      "cell_type": "code",
      "execution_count": 11,
      "metadata": {
        "id": "fUwlnebt86lX"
      },
      "outputs": [],
      "source": [
        "k=len(diag)\n",
        "\n",
        "pert=[0.1,0]\n",
        "n=20\n",
        "A=matrix(n,diag,upper,lower)\n",
        "val_cheb=chebeig(diag,upper,lower,k,n)\n",
        "val_cheb.sort()\n",
        "val_built,vec_built=np.linalg.eig(A)\n",
        "val_built.sort()\n",
        "\n",
        "A_fixed_bc=matrix_fixed_bc(n,diag,upper,lower,pert)\n",
        "val_built_fixed,vec_built_fixed=np.linalg.eig(A_fixed_bc)\n",
        "val_built_fixed.sort()\n",
        "\n",
        "#val_built_fixed=val_built_fixed[:-2]"
      ]
    },
    {
      "cell_type": "code",
      "source": [
        "A_bar,B,C,D=qgamma_n(diag,upper,lower,k)"
      ],
      "metadata": {
        "id": "cKhwL7EO7lFd"
      },
      "execution_count": 12,
      "outputs": []
    },
    {
      "cell_type": "code",
      "execution_count": 13,
      "metadata": {
        "id": "zm5TaiQj2R7K"
      },
      "outputs": [],
      "source": [
        "def S(A,B,C,D,val_e,a,a1):\n",
        "  n=len(val_e)\n",
        "  S_val=[]\n",
        "  R_val=[]\n",
        "  for i in range(n):\n",
        "    A_val=np.polyval(A,val_e[i])\n",
        "    B_val=np.polyval(B,val_e[i])\n",
        "    C_val=np.polyval(C,val_e[i])\n",
        "    D_val=np.polyval(D,val_e[i])\n",
        "    dif_a=a-a1\n",
        "    #print(dif_a)\n",
        "    #print(val_cheb[i])\n",
        "    #print(A_val)\n",
        "    R=1-(dif_a*D_val/B_val)\n",
        "    R_val.append(R)\n",
        "    S_bar=(A_val+C_val*dif_a)/R\n",
        "    S_v=S_bar-A_val\n",
        "    S_val.append(S_v)\n",
        "  return(R_val,S_val)"
      ]
    },
    {
      "cell_type": "code",
      "execution_count": 14,
      "metadata": {
        "id": "om_4wvCdhiGJ"
      },
      "outputs": [],
      "source": [
        "# Simple Python3 program to multiply two polynomials\n",
        "def multiply(A, B, m, n):\n",
        "\n",
        "\tprod = [0] * (m + n - 1);\n",
        "\t\n",
        "\t# Multiply two polynomials term by term\n",
        "\t\n",
        "\t# Take ever term of first polynomial\n",
        "\tfor i in range(m):\n",
        "\t\t\n",
        "\t\t# Multiply the current term of first\n",
        "\t\t# polynomial with every term of\n",
        "\t\t# second polynomial.\n",
        "\t\tfor j in range(n):\n",
        "\t\t\tprod[i + j] += A[i] * B[j];\n",
        "\n",
        "\treturn prod\n",
        "\n",
        "\n",
        "\n",
        "# polynomial 5 + 10x^2 + 6x^3\n",
        "A = [5, 0, 10, 6];\n",
        "\n",
        "# The following array represents\n",
        "# polynomial 1 + 2x + 4x^2\n",
        "B = [1, 2, 4];\n",
        "m = len(A);\n",
        "n = len(B);\n",
        "\n",
        "prod = multiply(A, B, m, n);\n"
      ]
    },
    {
      "cell_type": "code",
      "execution_count": 15,
      "metadata": {
        "id": "SQP-6_PJksg1"
      },
      "outputs": [],
      "source": [
        "# Simple Python 3 program to add two polynomials\n",
        "\n",
        "def add(A, B, m, n):\n",
        "\n",
        "\tsize = max(m, n);\n",
        "\tsum = [0 for i in range(size)]\n",
        "\n",
        "\t# Initialize the product polynomial\n",
        "\t\n",
        "\tfor i in range(0, m, 1):\n",
        "\t\tsum[i] = A[i]\n",
        "\n",
        "\t# Take ever term of first polynomial\n",
        "\tfor i in range(n):\n",
        "\t\tsum[i] += B[i]\n",
        "\n",
        "\treturn sum\n",
        "\n",
        "\n",
        "# polynomial 5 + 10x^2 + 6x^3\n",
        "A = [5, 0, 10, 6]\n",
        "\n",
        "# The following array represents\n",
        "# polynomial 1 + 2x + 4x^2\n",
        "B = [1, 2, 4]\n",
        "m = len(A)\n",
        "n = len(B)\n",
        "\n",
        "sum = add(A, B, m, n)\n"
      ]
    },
    {
      "cell_type": "code",
      "execution_count": 16,
      "metadata": {
        "id": "v8czEFRyjQ06"
      },
      "outputs": [],
      "source": [
        "#to solve the 2k points\n",
        "def solve_2k(diag,upper,lower,k):\n",
        "  q,gamma=qgamma(diag,upper,lower,k)\n",
        "  p_1=[1,diag[k-1]]\n",
        "  q,p_1=np.array(q),np.array(p_1)\n",
        "  p=add(p_1,-q,len(p_1),len(q))\n",
        "  p=p[::-1]\n",
        "  m=len(p)\n",
        "  n=len(q)\n",
        "  eqn_1=multiply(p[::-1],q[::-1],m,n)\n",
        "  eqn_2=multiply(p[::-1],p[::-1],m,m)\n",
        "  eqn_3=add(eqn_1,eqn_2,len(eqn_1),len(eqn_2))\n",
        "  eqn_3=eqn_3[::-1]\n",
        "\n",
        "  eqn_3[-1]=eqn_3[-1]-gamma\n",
        "\n",
        "  sln=np.roots(eqn_3)\n",
        "  return(sln)"
      ]
    },
    {
      "cell_type": "code",
      "execution_count": 17,
      "metadata": {
        "id": "tbGnV0yTlfgF"
      },
      "outputs": [],
      "source": [
        "sln=solve_2k(diag,upper,lower,k)"
      ]
    },
    {
      "cell_type": "code",
      "execution_count": 18,
      "metadata": {
        "id": "zXj5pfS6j9ss",
        "colab": {
          "base_uri": "https://localhost:8080/"
        },
        "outputId": "b859c55b-b0f8-4d03-c8b3-bd6e448579f8"
      },
      "outputs": [
        {
          "output_type": "stream",
          "name": "stderr",
          "text": [
            "<ipython-input-13-1d5507b97cbc>:14: RuntimeWarning: invalid value encountered in double_scalars\n",
            "  R=1-(dif_a*D_val/B_val)\n"
          ]
        }
      ],
      "source": [
        "A_bar,B,C,D=qgamma_n(diag,upper,lower,k)\n",
        "R_sln,S_sln=S(A_bar,B,C,D,sln,pert[0]+diag[0],diag[0])\n",
        "R_sln=np.array(R_sln)\n",
        "S_sln=np.array(S_sln)\n",
        "mod_S_sln=abs(S_sln)"
      ]
    },
    {
      "cell_type": "code",
      "execution_count": null,
      "metadata": {
        "colab": {
          "base_uri": "https://localhost:8080/"
        },
        "id": "5YyKfpKat1VM",
        "outputId": "5944b3b7-2b9a-499b-f559-4142e7a5c79a"
      },
      "outputs": [
        {
          "data": {
            "text/plain": [
              "array([-1.        +0.j        ,  0.61379324+0.08999861j,\n",
              "        0.61379324-0.08999861j, -0.32480871+0.j        ])"
            ]
          },
          "execution_count": 56,
          "metadata": {},
          "output_type": "execute_result"
        }
      ],
      "source": [
        "sln"
      ]
    },
    {
      "cell_type": "code",
      "execution_count": null,
      "metadata": {
        "colab": {
          "base_uri": "https://localhost:8080/"
        },
        "id": "1mieSMjmhza9",
        "outputId": "0500b8ac-3bc7-4a9a-9235-1f2a769ee4e1"
      },
      "outputs": [
        {
          "data": {
            "text/plain": [
              "array([1.        , 0.04643519, 0.04643519, 0.01897423])"
            ]
          },
          "execution_count": 57,
          "metadata": {},
          "output_type": "execute_result"
        }
      ],
      "source": [
        "mod_S_sln"
      ]
    },
    {
      "cell_type": "code",
      "execution_count": null,
      "metadata": {
        "colab": {
          "base_uri": "https://localhost:8080/",
          "height": 168
        },
        "id": "zFs8YBmdSZZM",
        "outputId": "02cea5be-c995-49d9-9434-5bef8d027796"
      },
      "outputs": [
        {
          "ename": "NameError",
          "evalue": "ignored",
          "output_type": "error",
          "traceback": [
            "\u001b[0;31m---------------------------------------------------------------------------\u001b[0m",
            "\u001b[0;31mNameError\u001b[0m                                 Traceback (most recent call last)",
            "\u001b[0;32m<ipython-input-23-62f8177ef7d8>\u001b[0m in \u001b[0;36m<module>\u001b[0;34m\u001b[0m\n\u001b[0;32m----> 1\u001b[0;31m \u001b[0mmod_s_ind\u001b[0m\u001b[0;34m=\u001b[0m\u001b[0mnp\u001b[0m\u001b[0;34m.\u001b[0m\u001b[0mwhere\u001b[0m\u001b[0;34m(\u001b[0m\u001b[0mmin\u001b[0m\u001b[0;34m(\u001b[0m\u001b[0mabs\u001b[0m\u001b[0;34m(\u001b[0m\u001b[0mS_val\u001b[0m\u001b[0;34m-\u001b[0m\u001b[0;34m(\u001b[0m\u001b[0mmod_S_sln\u001b[0m\u001b[0;34m[\u001b[0m\u001b[0;36m0\u001b[0m\u001b[0;34m]\u001b[0m\u001b[0;34m)\u001b[0m\u001b[0;34m)\u001b[0m\u001b[0;34m)\u001b[0m\u001b[0;34m)\u001b[0m\u001b[0;34m\u001b[0m\u001b[0;34m\u001b[0m\u001b[0m\n\u001b[0m",
            "\u001b[0;31mNameError\u001b[0m: name 'S_val' is not defined"
          ]
        }
      ],
      "source": [
        "mod_s_ind=np.where(min(abs(S_val-(mod_S_sln[0]))))"
      ]
    },
    {
      "cell_type": "code",
      "execution_count": null,
      "metadata": {
        "colab": {
          "base_uri": "https://localhost:8080/"
        },
        "id": "DdZUyvVGSw17",
        "outputId": "2df9550c-f528-41dc-dbfa-4416e42d0f37"
      },
      "outputs": [
        {
          "data": {
            "text/plain": [
              "(array([8]),)"
            ]
          },
          "execution_count": 58,
          "metadata": {},
          "output_type": "execute_result"
        }
      ],
      "source": [
        "mod_s_ind"
      ]
    },
    {
      "cell_type": "code",
      "execution_count": null,
      "metadata": {
        "id": "cSmzvIShclb9"
      },
      "outputs": [],
      "source": [
        "#find val_built which is close to sln\n",
        "t=len(sln)\n",
        "sln_built=[]\n",
        "for i in range(t):\n",
        "  h=min(abs(val_built-sln[i]))\n",
        "  s=np.where((abs(val_built-sln[i]))==h)\n",
        "  sln_built.append(val_built[s][0])"
      ]
    },
    {
      "cell_type": "code",
      "execution_count": null,
      "metadata": {
        "colab": {
          "base_uri": "https://localhost:8080/"
        },
        "id": "aZs2Rm-JWT6I",
        "outputId": "3dda06fe-1506-4ce8-d535-51c45f445c24"
      },
      "outputs": [
        {
          "data": {
            "text/plain": [
              "[-0.9838618502633815,\n",
              " 0.9999999999999956,\n",
              " 0.9999999999999956,\n",
              " -0.5644804312128501]"
            ]
          },
          "execution_count": 60,
          "metadata": {},
          "output_type": "execute_result"
        }
      ],
      "source": [
        "sln_built"
      ]
    },
    {
      "cell_type": "markdown",
      "metadata": {
        "id": "rVqKuRHEBnlQ"
      },
      "source": [
        "#S_VAL"
      ]
    },
    {
      "cell_type": "code",
      "source": [
        "k=2\n",
        "diag=[1,2] \n",
        "upper=[1,-3] \n",
        "lower=upper\n",
        "upper,lower,diag=np.array(upper),np.array(lower),np.array(diag)\n",
        "pert=[10,0]\n",
        "n=20\n",
        "#val_cheb=chebeig(diag,upper,lower,k,n)"
      ],
      "metadata": {
        "id": "HJbrjW9HaCLM"
      },
      "execution_count": 43,
      "outputs": []
    },
    {
      "cell_type": "code",
      "source": [
        "k=len(diag)\n",
        "\n",
        "\n",
        "n=20\n",
        "A=matrix(n,diag,upper,lower)\n",
        "val_cheb=chebeig(diag,upper,lower,k,n)\n",
        "val_cheb.sort()\n",
        "val_built,vec_built=np.linalg.eig(A)\n",
        "val_built.sort()\n",
        "\n",
        "A_fixed_bc=matrix_fixed_bc(n,diag,upper,lower,pert)\n",
        "val_built_fixed,vec_built_fixed=np.linalg.eig(A_fixed_bc)\n",
        "val_built_fixed.sort()\n",
        "\n",
        "#val_built_fixed=val_built_fixed[:-2]"
      ],
      "metadata": {
        "id": "cwYUGbXTZ--m"
      },
      "execution_count": 44,
      "outputs": []
    },
    {
      "cell_type": "code",
      "source": [
        "A_bar,B,C,D=qgamma_n(diag,upper,lower,k)"
      ],
      "metadata": {
        "id": "RLOnLTAtXbpI"
      },
      "execution_count": 45,
      "outputs": []
    },
    {
      "cell_type": "code",
      "execution_count": 46,
      "metadata": {
        "id": "W7nCmOzuSdtZ"
      },
      "outputs": [],
      "source": [
        "R_val,S_val=S(A_bar,B,C,D,val_cheb,pert[0]+diag[0],diag[0])\n",
        "R_val=np.array(R_val)\n",
        "S_val=np.array(S_val)"
      ]
    },
    {
      "cell_type": "code",
      "execution_count": 47,
      "metadata": {
        "id": "EdkQ-Foncnr6"
      },
      "outputs": [],
      "source": [
        "mod_s_val=abs(S_val)\n",
        "#mod_s_val.sort()a"
      ]
    },
    {
      "cell_type": "code",
      "execution_count": 100,
      "metadata": {
        "colab": {
          "base_uri": "https://localhost:8080/"
        },
        "id": "fb9hsMBbtKt1",
        "outputId": "18208834-d99e-406a-ff17-62d122569104"
      },
      "outputs": [
        {
          "output_type": "execute_result",
          "data": {
            "text/plain": [
              "7.292228584632661"
            ]
          },
          "metadata": {},
          "execution_count": 100
        }
      ],
      "source": [
        "mod_S_sln[0]"
      ]
    },
    {
      "cell_type": "code",
      "execution_count": 41,
      "metadata": {
        "id": "ALxIYsCrGzlc"
      },
      "outputs": [],
      "source": [
        "#mod_s_val[10]"
      ]
    },
    {
      "cell_type": "code",
      "execution_count": 101,
      "metadata": {
        "id": "Xu0CUfiscsTh"
      },
      "outputs": [],
      "source": [
        "mod_s_ind=np.where(min(abs(mod_s_val-(mod_S_sln[3])))==(abs(mod_s_val-(mod_S_sln[3]))))"
      ]
    },
    {
      "cell_type": "code",
      "execution_count": 102,
      "metadata": {
        "colab": {
          "base_uri": "https://localhost:8080/"
        },
        "id": "vwq16fPaTMxT",
        "outputId": "5db7ef10-ef19-4e50-96d1-70e66b1054aa"
      },
      "outputs": [
        {
          "output_type": "execute_result",
          "data": {
            "text/plain": [
              "(array([], dtype=int64),)"
            ]
          },
          "metadata": {},
          "execution_count": 102
        }
      ],
      "source": [
        "mod_s_ind"
      ]
    },
    {
      "cell_type": "code",
      "execution_count": 46,
      "metadata": {
        "id": "S5BVwqZUuxZK"
      },
      "outputs": [],
      "source": [
        "#val_built_fixed[15]"
      ]
    },
    {
      "cell_type": "code",
      "execution_count": 48,
      "metadata": {
        "id": "kmCdbMgSTPhy"
      },
      "outputs": [],
      "source": [
        "mod_s_val.sort()"
      ]
    },
    {
      "cell_type": "code",
      "execution_count": 91,
      "metadata": {
        "colab": {
          "base_uri": "https://localhost:8080/"
        },
        "id": "VDvm09HnTbgv",
        "outputId": "45a5c072-4bf4-4b14-c645-62e3e2d03e9e"
      },
      "outputs": [
        {
          "output_type": "execute_result",
          "data": {
            "text/plain": [
              "0.007922754180636815"
            ]
          },
          "metadata": {},
          "execution_count": 91
        }
      ],
      "source": [
        "mod_s_val[0]"
      ]
    },
    {
      "cell_type": "code",
      "execution_count": 25,
      "metadata": {
        "id": "E5K8BwVzkvri"
      },
      "outputs": [],
      "source": [
        "def dl_c(S_val,val_built_fixed):\n",
        "  n=len(S_val)\n",
        "  #forward\n",
        "  #ds_2_f=[]\n",
        "  dl_2_f=[]\n",
        "\n",
        "  for i in range(n-1):\n",
        "    #ds_2_f.append((S_val[i]-S_val[i+1])**2)\n",
        "    dl_2_f.append((val_built_fixed[i]-val_built_fixed[i+1])**2)\n",
        "  #ds_2_f.append(0)\n",
        "  dl_2_f.append(0)\n",
        "\n",
        "  #ds_2_f=np.array(ds_2_f)\n",
        "  dl_2_f=np.array(dl_2_f)\n",
        "  ds_dl_f=(dl_2_f)\n",
        "\n",
        "  #backward\n",
        "  #ds_2_b=[0]\n",
        "  dl_2_b=[0]\n",
        "\n",
        "  for i in range(1,n):\n",
        "    #ds_2_b.append((S_val[i]-S_val[i-1])**2)\n",
        "    dl_2_b.append((val_built_fixed[i]-val_built_fixed[i-1])**2)\n",
        "\n",
        "  #ds_2_b=np.array(ds_2_b)\n",
        "  dl_2_b=np.array(dl_2_b)\n",
        "  ds_dl_b=(dl_2_b)\n",
        "  #print(ds_dl_b)\n",
        "  #finding minimum of forward and backward\n",
        "  ds_dl=[ds_dl_f[0]]\n",
        "  for i in range(1,n-1):\n",
        "    ds_dl.append(min(ds_dl_f[i],ds_dl_b[i]))\n",
        "  ds_dl.append(ds_dl_b[-1])\n",
        "  ds_dl=np.array(ds_dl)\n",
        "\n",
        "  return(ds_dl)"
      ]
    },
    {
      "cell_type": "code",
      "execution_count": 26,
      "metadata": {
        "id": "1GR_Y97OsGbz"
      },
      "outputs": [],
      "source": [
        "def ds_dl_c(S_val,val_built_fixed):\n",
        "  n=len(S_val)\n",
        "  #forward\n",
        "  ds_2_f=[]\n",
        "  dl_2_f=[]\n",
        "  #dl=[]\n",
        "\n",
        "  for i in range(n-1):\n",
        "    ds_2_f.append((S_val[i]-S_val[i+1])**2)\n",
        "    dl_2_f.append((val_built_fixed[i]-val_built_fixed[i+1])**2)\n",
        "  ds_2_f.append(0)\n",
        "  dl_2_f.append(0)\n",
        "\n",
        "  ds_2_f=np.array(ds_2_f)\n",
        "  dl_2_f=np.array(dl_2_f)\n",
        "  ds_dl_f=(ds_2_f+dl_2_f)\n",
        "\n",
        "  #backward\n",
        "  ds_2_b=[0]\n",
        "  dl_2_b=[0]\n",
        "\n",
        "  for i in range(1,n):\n",
        "    ds_2_b.append((S_val[i]-S_val[i-1])**2)\n",
        "    dl_2_b.append((val_built_fixed[i]-val_built_fixed[i-1])**2)\n",
        "\n",
        "  ds_2_b=np.array(ds_2_b)\n",
        "  dl_2_b=np.array(dl_2_b)\n",
        "  ds_dl_b=(ds_2_b+dl_2_b)\n",
        "  \n",
        "  #print(ds_dl_b)\n",
        "  #finding minimum of forward and backward\n",
        "  ds_dl=[ds_dl_f[0]]\n",
        "  #dl=[dl_2_b[0]]\n",
        "  for i in range(1,n-1):\n",
        "    ds_dl.append(min(ds_dl_f[i],ds_dl_b[i]))\n",
        "    #dl.append(min(dl_2_b[i],dl_2_f[i]))\n",
        "  ds_dl.append(ds_dl_b[-1])\n",
        "  #dl.append(dl_2_b[-1])\n",
        "  ds_dl=np.array(ds_dl)\n",
        "  #dl=np.array(dl)\n",
        "\n",
        "  return(ds_dl)"
      ]
    },
    {
      "cell_type": "code",
      "execution_count": 49,
      "metadata": {
        "id": "0KzdDarst6Wt"
      },
      "outputs": [],
      "source": [
        "dl=ds_dl_c(abs(S_val),val_built_fixed)"
      ]
    },
    {
      "cell_type": "code",
      "execution_count": null,
      "metadata": {
        "id": "qVo9fFRcQsaa"
      },
      "outputs": [],
      "source": []
    },
    {
      "cell_type": "code",
      "execution_count": 50,
      "metadata": {
        "colab": {
          "base_uri": "https://localhost:8080/"
        },
        "id": "_2vvviUtAr9J",
        "outputId": "be8e0a95-7e79-4cd3-9a35-3625a655b17a"
      },
      "outputs": [
        {
          "output_type": "execute_result",
          "data": {
            "text/plain": [
              "[10, 0]"
            ]
          },
          "metadata": {},
          "execution_count": 50
        }
      ],
      "source": [
        "pert"
      ]
    },
    {
      "cell_type": "code",
      "execution_count": 51,
      "metadata": {
        "colab": {
          "base_uri": "https://localhost:8080/",
          "height": 280
        },
        "id": "kU4iAcsmt--8",
        "outputId": "d16041b1-5432-42eb-d7ad-9bae0359b58c"
      },
      "outputs": [
        {
          "output_type": "display_data",
          "data": {
            "text/plain": [
              "<Figure size 432x288 with 1 Axes>"
            ],
            "image/png": "[encoded data removed]"
          },
          "metadata": {
            "needs_background": "light"
          }
        }
      ],
      "source": [
        "#@title Default title text\n",
        "plt.plot(val_built_fixed,dl,\"*\",color=\"red\")\n",
        "#plt.plot(sln_built,mod_S_sln,\"*\",color=\"blue\") #has pblm\n",
        "plt.xlabel(\"val_built_fixed\")\n",
        "plt.ylabel(\"|dS|^2+|dl|^2\")\n",
        "plt.savefig(\"ds_dl_[1,2],l=u,u=[1,-3]pert=[10,0]_n=20.png\")"
      ]
    },
    {
      "cell_type": "code",
      "execution_count": null,
      "metadata": {
        "colab": {
          "base_uri": "https://localhost:8080/",
          "height": 298
        },
        "id": "_dowNhvHwRT-",
        "outputId": "e982cb42-3652-4a5e-a8fc-529bb15566da"
      },
      "outputs": [
        {
          "data": {
            "text/plain": [
              "Text(0, 0.5, '|S|')"
            ]
          },
          "execution_count": 82,
          "metadata": {},
          "output_type": "execute_result"
        },
        {
          "data": {
            "image/png": "[encoded data removed]",
            "text/plain": [
              "<Figure size 432x288 with 1 Axes>"
            ]
          },
          "metadata": {},
          "output_type": "display_data"
        }
      ],
      "source": [
        "#plt.plot(val_built,Z,\"*\",color=\"black\")\n",
        "plt.plot(val_built_fixed,abs(S_val),\"*\",color=\"red\")\n",
        "Z=abs(val_cheb-val_built_fixed)\n",
        "#plt.xlabel(\"val_built_fixed\")\n",
        "#plt.ylabel(\"|val_built_fixed-val_cheb|\")\n",
        "plt.plot(val_built_fixed,Z,\"*\",color=\"blue\")\n",
        "plt.xlabel(\"val_built_fixed\")\n",
        "plt.ylabel(\"|S|\")\n",
        "#plt.savefig(\"S diagram_d=[1,2,0],l=-u,u=[1,2,4]pert=[-0.1,0]_n=20.png\")"
      ]
    },
    {
      "cell_type": "code",
      "execution_count": null,
      "metadata": {
        "colab": {
          "base_uri": "https://localhost:8080/"
        },
        "id": "_PkaJOVCjEDc",
        "outputId": "29773712-4bc3-4165-c9ea-8de93a11bee7"
      },
      "outputs": [
        {
          "data": {
            "text/plain": [
              "[1, 0]"
            ]
          },
          "execution_count": 30,
          "metadata": {},
          "output_type": "execute_result"
        }
      ],
      "source": [
        "pert"
      ]
    },
    {
      "cell_type": "code",
      "execution_count": null,
      "metadata": {
        "id": "j-gyntq_SPG3"
      },
      "outputs": [],
      "source": []
    },
    {
      "cell_type": "code",
      "execution_count": null,
      "metadata": {
        "colab": {
          "base_uri": "https://localhost:8080/",
          "height": 298
        },
        "id": "QtnefdWwThvP",
        "outputId": "4cb21325-1a1a-4f0a-bcdc-27690c5b90c1"
      },
      "outputs": [
        {
          "data": {
            "text/plain": [
              "Text(0, 0.5, '|S|')"
            ]
          },
          "execution_count": 41,
          "metadata": {},
          "output_type": "execute_result"
        },
        {
          "data": {
            "image/png": "[encoded data removed]",
            "text/plain": [
              "<Figure size 432x288 with 1 Axes>"
            ]
          },
          "metadata": {},
          "output_type": "display_data"
        }
      ],
      "source": [
        "#@title Default title text\n",
        "plt.plot(sln_built,mod_S_sln,\"*\",color=\"red\")\n",
        "plt.xlabel(\"val_built\")\n",
        "plt.ylabel(\"|S|\")\n",
        "#plt.savefig(\"2k_S diagram_d=[1,2],l=u,u=[1,-3]pert=[-0.1,0]_n=20.png\")"
      ]
    },
    {
      "cell_type": "code",
      "execution_count": null,
      "metadata": {
        "colab": {
          "base_uri": "https://localhost:8080/",
          "height": 315
        },
        "id": "j7CblazgUSJ9",
        "outputId": "c58cab73-5a53-4168-e9da-5c24b275b736"
      },
      "outputs": [
        {
          "name": "stderr",
          "output_type": "stream",
          "text": [
            "/usr/local/lib/python3.7/dist-packages/matplotlib/cbook/__init__.py:1317: ComplexWarning: Casting complex values to real discards the imaginary part\n",
            "  return np.asarray(x, float)\n"
          ]
        },
        {
          "data": {
            "image/png": "[encoded data removed]",
            "text/plain": [
              "<Figure size 432x288 with 1 Axes>"
            ]
          },
          "metadata": {},
          "output_type": "display_data"
        }
      ],
      "source": [
        "plt.plot(sln,mod_S_sln,\"*\",color=\"red\")\n",
        "plt.xlabel(\"val_approx\")\n",
        "plt.ylabel(\"|S|\")\n",
        "plt.savefig(\"2k_approx_S diagram_d=[1,2],l=u,u=[1,-3]pert=[-0.1,0]_n=20.png\")"
      ]
    },
    {
      "cell_type": "code",
      "execution_count": null,
      "metadata": {
        "colab": {
          "base_uri": "https://localhost:8080/",
          "height": 298
        },
        "id": "us5Ejy4Up5Q_",
        "outputId": "adcf2c2f-c54e-4a00-b050-cbc49aca0e04"
      },
      "outputs": [
        {
          "data": {
            "text/plain": [
              "Text(0, 0.5, '|S|')"
            ]
          },
          "execution_count": 53,
          "metadata": {},
          "output_type": "execute_result"
        },
        {
          "data": {
            "image/png": "[encoded data removed]",
            "text/plain": [
              "<Figure size 432x288 with 1 Axes>"
            ]
          },
          "metadata": {},
          "output_type": "display_data"
        }
      ],
      "source": [
        "#plt.plot(val_built,Z,\"*\",color=\"black\")\n",
        "plt.plot(val_built_fixed,abs(S_val),\"*\",color=\"red\")\n",
        "#plt.plot(sln_built,mod_S_sln,\"*\",color=\"blue\") #has pblm\n",
        "plt.xlabel(\"val_built_fixed\")\n",
        "plt.ylabel(\"|S|\")\n",
        "#plt.savefig(\"S diagram_d=[1,2,0],l=-u,u=[1,2,4]pert=[-0.1,0]_n=20.png\")"
      ]
    },
    {
      "cell_type": "code",
      "execution_count": null,
      "metadata": {
        "colab": {
          "base_uri": "https://localhost:8080/",
          "height": 298
        },
        "id": "9EanMETPvZPy",
        "outputId": "06291083-e6b3-4ae4-8189-780429d9d9c6"
      },
      "outputs": [
        {
          "data": {
            "text/plain": [
              "[<matplotlib.lines.Line2D at 0x7f1921b01690>]"
            ]
          },
          "execution_count": 52,
          "metadata": {},
          "output_type": "execute_result"
        },
        {
          "data": {
            "image/png": "[encoded data removed]",
            "text/plain": [
              "<Figure size 432x288 with 1 Axes>"
            ]
          },
          "metadata": {},
          "output_type": "display_data"
        }
      ],
      "source": [
        "Z=abs(val_cheb-val_built_fixed)\n",
        "plt.xlabel(\"val_built_fixed\")\n",
        "plt.ylabel(\"|val_built_fixed-val_cheb|\")\n",
        "plt.plot(val_built_fixed,Z,\"*\",color=\"red\")\n",
        "#plt.savefig(\"difference_d=[1,2,0],l=-u,u=[1,2,4]pert=[0,10]_n=20.png\")"
      ]
    }
  ],
  "metadata": {
    "colab": {
      "collapsed_sections": [
        "fE0agbdlRLZb",
        "l4zJqZKMRviY"
      ],
      "provenance": []
    },
    "kernelspec": {
      "display_name": "Python 3",
      "name": "python3"
    },
    "language_info": {
      "name": "python"
    }
  },
  "nbformat": 4,
  "nbformat_minor": 0
}