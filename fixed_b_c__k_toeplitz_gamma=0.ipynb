{
  "cells": [
    {
      "cell_type": "code",
      "execution_count": 4,
      "metadata": {
        "id": "0SDWbf9ClUOV"
      },
      "outputs": [],
      "source": [
        "import numpy as np\n",
        "import matplotlib.pyplot as plt\n",
        "import scipy.linalg as sc\n",
        "import cmath"
      ]
    },
    {
      "cell_type": "code",
      "execution_count": 5,
      "metadata": {
        "id": "VVP8W0MQnMQ_"
      },
      "outputs": [],
      "source": [
        "def matrix(n,diag,upper,lower):\n",
        "  k=len(diag)\n",
        "  dia=[]\n",
        "  for i in range(n):\n",
        "    for j in range(k):\n",
        "      dia.append(diag[j])\n",
        "\n",
        "  #UPPER\n",
        "  up=[]\n",
        "  for i in range(n):\n",
        "    for j in range(k):\n",
        "      up.append(upper[j])\n",
        "\n",
        "  up=up[:-1]\n",
        "  A=np.diag(dia)\n",
        "\n",
        "\n",
        "  for i in range(int(n*k)-1):\n",
        "    A[i][i+1]=up[i]\n",
        "    A[i+1][i]=up[i]\n",
        "\n",
        "  #N=int(n*k)\n",
        "  #A[0][0]=A[0][0]+pert[0]\n",
        "  #A[N-1][N-1]=A[N-1][N-1]+pert[1]\n",
        "\n",
        "  return(A)"
      ]
    },
    {
      "cell_type": "code",
      "execution_count": 6,
      "metadata": {
        "id": "CQgMzmlfulsi"
      },
      "outputs": [],
      "source": [
        "def matrix_fixed_bc(n,diag,upper,lower,pert):\n",
        "  k=len(diag)\n",
        "  dia=[]\n",
        "  for i in range(n):\n",
        "    for j in range(k):\n",
        "      dia.append(diag[j])\n",
        "\n",
        "  #UPPER\n",
        "  up=[]\n",
        "  for i in range(n):\n",
        "    for j in range(k):\n",
        "      up.append(upper[j])\n",
        "\n",
        "  up=up[:-1]\n",
        "  A=np.diag(dia)\n",
        "\n",
        "\n",
        "  for i in range(int(n*k)-1):\n",
        "    A[i][i+1]=up[i]\n",
        "    A[i+1][i]=up[i]\n",
        "\n",
        "  N=int(n*k)\n",
        "  A[0][0]=A[0][0]+pert[0]\n",
        "  A[N-1][N-1]=A[N-1][N-1]+pert[1]\n",
        "\n",
        "  return(A)"
      ]
    },
    {
      "cell_type": "code",
      "execution_count": 7,
      "metadata": {
        "id": "SmJmqm82mCJd"
      },
      "outputs": [],
      "source": [
        "def pert(n,k):\n",
        "  u=np.random.rand(int(n*k))#vec[0]#[0.1,0,100]\n",
        "  for i in range(1,int(n*k)-1):\n",
        "    u[i]=0\n",
        "  v=u#[0.1,0,100]\n",
        "  u,v=np.array(u)/(np.linalg.norm(u)),np.array(v)/(np.linalg.norm(v))\n",
        "  v=v.T\n",
        "\n",
        "  v=v.reshape(1,int(n*k))\n",
        "  u=u.reshape(int(n*k),1)\n",
        "\n",
        "  c=(u @ v)\n",
        "\n",
        "  return(c,u)\n",
        "\n",
        "#c=(u @ v.T)"
      ]
    },
    {
      "cell_type": "code",
      "execution_count": 8,
      "metadata": {
        "id": "O0Lf8aAevvLx"
      },
      "outputs": [],
      "source": [
        "def qgamma(diag_k,u_k,l_k,k):    #to find gamma  and  Qk(z)\n",
        "  a=diag_k\n",
        "  p=np.multiply(u_k,l_k)\n",
        "  Aim11 =1\n",
        "  Aim12 =0\n",
        "  Aim13 =0\n",
        "  Aim14 =1\n",
        "  for i in range(k):\n",
        "    Ai1 = [1,a[i]]\n",
        "    Ai2 = [0,-p[i]]\n",
        "    Ai3 = [0,1]\n",
        "    Ai4 =  [0,0]\n",
        "    P1 = np.convolve(Aim11,Ai1) +np.convolve(Aim12,Ai3)\n",
        "    P2 = np.convolve(Aim11,Ai2) +np.convolve(Aim12,Ai4)\n",
        "    P3 = np.convolve(Aim13,Ai1) +np.convolve(Aim14,Ai3)\n",
        "    P4 = np.convolve(Aim13,Ai2) +np.convolve(Aim14,Ai4)\n",
        "    Aim11 = P1\n",
        "    Aim12 = P2\n",
        "    Aim13 = P3\n",
        "    Aim14 = P4\n",
        "    #print(P1,P2,P3,P4)\n",
        "    \n",
        "  q=P1+P4  #trace of Uk\n",
        "  gamma1=-np.prod(p)  #gamma1 is the negative of the determinant of Uk\n",
        "  P4=np.array(P4)\n",
        "  return(q,gamma1)"
      ]
    },
    {
      "cell_type": "code",
      "execution_count": 9,
      "metadata": {
        "id": "xlD1vmrOvvyI"
      },
      "outputs": [],
      "source": [
        "def chebeig(diag_k,u_k,l_k,k,t):      \n",
        "  n=int(k*t)\n",
        "  q,g=qgamma(diag_k,u_k,l_k,k)\n",
        "  #print(diag_k)\n",
        "  q=np.array(q,dtype=\"complex\")\n",
        "  #print(q,g)\n",
        "  tnroots=np.zeros(int(n/k),dtype=complex)\n",
        "  for l in range(1,int(n/k)+1):\n",
        "    tnroots[l-1]=1j*2*np.cos(np.pi/((n/k)+1)*(l))\n",
        "  #print(tnroots)\n",
        "  zcheb = []  #upto this fine\n",
        "  c0=q[k]\n",
        "  for i in range(int(n/k)):\n",
        "    q[k]=c0+((cmath.sqrt(g))*tnroots[i])\n",
        "    \n",
        "    zcheb=np.concatenate((zcheb,-np.roots(q)))  \n",
        "  #print(g)\n",
        "  #print(np.shape(zcheb))\n",
        "  return(zcheb)"
      ]
    },
    {
      "cell_type": "code",
      "execution_count": 10,
      "metadata": {
        "id": "mHfz5nblv0gu"
      },
      "outputs": [],
      "source": [
        "def thomas(A,d):    \n",
        "    m,n=np.shape(A)\n",
        "    a=np.diag(A,-1)\n",
        "    b=np.diag(A)\n",
        "    c=np.diag(A,1)\n",
        "    \n",
        "    a=np.array(a,dtype='complex')\n",
        "    b=np.array(b,dtype='complex')\n",
        "    c=np.array(c,dtype='complex')\n",
        "    d=np.array(d,dtype='complex')\n",
        "    x=np.zeros(m,dtype=\"complex\")\n",
        "    \n",
        "    #forward propogation\n",
        "    for i in range(m-1):\n",
        "        w=a[i]/b[i]\n",
        "        b[i+1]=b[i+1]-(w*c[i])\n",
        "        d[i+1]=d[i+1]-(w*d[i])\n",
        "        \n",
        "    #back substitution\n",
        "    \n",
        "    x[m-1]=d[m-1]/b[m-1]\n",
        "    \n",
        "    for i in range(m-2,-1,-1):\n",
        "        x[i]=(d[i]-(c[i]*x[i+1]))/b[i]\n",
        "        \n",
        "    return(x)"
      ]
    },
    {
      "cell_type": "code",
      "execution_count": 11,
      "metadata": {
        "id": "wsLC_bM-ODYc"
      },
      "outputs": [],
      "source": [
        "def inv_itr(A,muo):\n",
        "    e_m=7./3-4./3-1  #machine epsion\n",
        "    m,n=np.shape(A)\n",
        "    x=np.ones(m)#np.random.rand(m)\n",
        "    #print(x)\n",
        "    B=(A-muo*np.identity(m))\n",
        "    #check diagonal elements of B are zero or not.If it is zero, add some perturbation.\n",
        "    \n",
        "    for i in range(m):\n",
        "        if(B[i][i]==0):\n",
        "            B[i][i]=B[i][i]\n",
        "\n",
        "    for  i in range(10):\n",
        "        v=thomas(B,x)\n",
        "        if((np.linalg.norm(v))==0):\n",
        "            v=np.array(v)#/(np.linalg.norm(v))  #x is the eigen vector.\n",
        "        else:\n",
        "            v=np.array(v)/(np.linalg.norm(v))\n",
        "            \n",
        "    muo=np.transpose(v)@A@v   #muo is the eigen value\n",
        "    return(muo,v)  "
      ]
    },
    {
      "cell_type": "code",
      "execution_count": null,
      "metadata": {
        "id": "4c4guBIugssl"
      },
      "outputs": [],
      "source": [
        "a=[1,2,3,4]\n",
        "b=[0,1,5,8]"
      ]
    },
    {
      "cell_type": "code",
      "execution_count": null,
      "metadata": {
        "id": "z6Cs2xpdhqaq"
      },
      "outputs": [],
      "source": [
        "#find closest number for each element in a\n",
        "cl_no=[]\n",
        "for i in range(4):\n",
        "  d=100\n",
        "  for j in range(4):\n",
        "    if(abs(a[i]-b[j])<d):\n",
        "\n",
        "      d=abs(a[i]-b[j])\n",
        "      J=j\n",
        "\n",
        "  cl_no.append(b[J])"
      ]
    },
    {
      "cell_type": "code",
      "execution_count": null,
      "metadata": {
        "colab": {
          "base_uri": "https://localhost:8080/"
        },
        "id": "VtsPq_D4jClh",
        "outputId": "7fbece46-e83b-4ab5-e80a-b8cd9db76b3e"
      },
      "outputs": [
        {
          "data": {
            "text/plain": [
              "[1, 1, 1, 5]"
            ]
          },
          "execution_count": 14,
          "metadata": {},
          "output_type": "execute_result"
        }
      ],
      "source": [
        "cl_no"
      ]
    },
    {
      "cell_type": "code",
      "execution_count": null,
      "metadata": {
        "colab": {
          "base_uri": "https://localhost:8080/"
        },
        "id": "pdhQCs7t-pGm",
        "outputId": "b3bd374f-5686-45bd-bc41-a2c401e85b3a"
      },
      "outputs": [
        {
          "data": {
            "text/plain": [
              "array([0.18119411-0.j, 0.24981217-0.j, 0.90499857-0.j, 0.97361664-0.j])"
            ]
          },
          "execution_count": 15,
          "metadata": {},
          "output_type": "execute_result"
        }
      ],
      "source": [
        "val_cheb"
      ]
    },
    {
      "cell_type": "code",
      "execution_count": null,
      "metadata": {
        "colab": {
          "base_uri": "https://localhost:8080/"
        },
        "id": "l85neEFE-qtz",
        "outputId": "585dd690-2629-484d-b585-9e6d373d4db7"
      },
      "outputs": [
        {
          "data": {
            "text/plain": [
              "array([0.22089243, 0.93208972, 5.71453715, 8.44210219])"
            ]
          },
          "execution_count": 16,
          "metadata": {},
          "output_type": "execute_result"
        }
      ],
      "source": [
        "val_built"
      ]
    },
    {
      "cell_type": "code",
      "execution_count": null,
      "metadata": {
        "id": "JfZKD-AQ8UkG"
      },
      "outputs": [],
      "source": [
        "def replace(N,D):\n",
        "  ind=[]\n",
        "  for i in range(N):\n",
        "    I,J=np.where(D == min(D[:,i]))\n",
        "\n",
        "    I=I[0]\n",
        "\n",
        "    J=J[0]\n",
        "\n",
        "  #if(min(D[:,J])!=min(D[I])):\n",
        "  #if(len(ind)<(N-2)):\n",
        "    ind.append(I)\n",
        "\n",
        "  ind.sort()\n",
        "  ind=list(set(ind))\n",
        "\n",
        "  ind=np.array(ind)\n",
        "\n",
        "  a=[]\n",
        "  for i in range(N):\n",
        "    k=0\n",
        "    for j in range(len(ind)):\n",
        "      if(ind[j]!=i):\n",
        "        k=k+1\n",
        "\n",
        "    if(k>(N-3)):  \n",
        "      a.append(i)\n",
        "\n",
        "  return(ind,a)"
      ]
    },
    {
      "cell_type": "code",
      "source": [
        "def qgamma_n(diag_k,u_k,l_k,k):    #to find gamma  and  Qk(z)\n",
        "  a=diag_k\n",
        "  p=np.multiply(u_k,l_k)\n",
        "  Aim11 =1\n",
        "  Aim12 =0\n",
        "  Aim13 =0\n",
        "  Aim14 =1\n",
        "  for i in range(k):\n",
        "    Ai1 = [1,a[i]]\n",
        "    Ai2 = [0,-p[i]]\n",
        "    Ai3 = [0,1]\n",
        "    Ai4 =  [0,0]\n",
        "    P1 = np.convolve(Aim11,Ai1) +np.convolve(Aim12,Ai3)\n",
        "    P2 = np.convolve(Aim11,Ai2) +np.convolve(Aim12,Ai4)\n",
        "    P3 = np.convolve(Aim13,Ai1) +np.convolve(Aim14,Ai3)\n",
        "    P4 = np.convolve(Aim13,Ai2) +np.convolve(Aim14,Ai4)\n",
        "    Aim11 = P1\n",
        "    Aim12 = P2\n",
        "    Aim13 = P3\n",
        "    Aim14 = P4\n",
        "    #print(P1,P2,P3,P4)\n",
        "    \n",
        "  q=P1+P4  #trace of Uk\n",
        "  gamma1=-np.prod(p)  #gamma1 is the negative of the determinant of Uk\n",
        "  P4=np.array(P4)\n",
        "  return(P1,P2,P3,P4)"
      ],
      "metadata": {
        "id": "XlXidBa4tkBc"
      },
      "execution_count": 12,
      "outputs": []
    },
    {
      "cell_type": "code",
      "source": [
        "def chebeig_n(diag_k,u_k,l_k,k,t):      \n",
        "  n=int(k*t)\n",
        "  q,g=qgamma(diag_k,u_k,l_k,k)\n",
        "  #print(diag_k)\n",
        "  q=np.array(q,dtype=\"complex\")\n",
        "  #print(q,g)\n",
        "  tnroots=np.zeros(int(n/k),dtype=complex)\n",
        "  for l in range(1,int(n/k)+1):\n",
        "    tnroots[l-1]=1j*2*np.cos(np.pi/((n/k)+1)*(l))\n",
        "  #print(tnroots)\n",
        "  zcheb = []  #upto this fine\n",
        "  c0=q[k]\n",
        "  for i in range(int(n/k)):\n",
        "    q[k]=c0+((cmath.sqrt(g))*tnroots[i])\n",
        "    \n",
        "    zcheb=np.concatenate((zcheb,-np.roots(q)))  \n",
        "  #print(g)\n",
        "  #print(np.shape(zcheb))\n",
        "  return(tnroots,zcheb)"
      ],
      "metadata": {
        "id": "7O7tgw0vZHZf"
      },
      "execution_count": 13,
      "outputs": []
    },
    {
      "cell_type": "markdown",
      "source": [
        "##gamma=0"
      ],
      "metadata": {
        "id": "21W_g8tuN0eN"
      }
    },
    {
      "cell_type": "code",
      "source": [
        "k=3\n",
        "diag=[0,0,0]#,30,20,1]#np.random.rand(k)#\n",
        "upper=[0,0,1]#,6,5,10]#np.random.rand(k) #[5,4,1]#-\n",
        "lower=[1,1,1]#upper#np.random.rand(k)#upper\n",
        "\n",
        "upper,lower,diag=np.array(upper),np.array(lower),np.array(diag)\n",
        "pert=[30,-50]"
      ],
      "metadata": {
        "id": "fCliezuMNxpD"
      },
      "execution_count": null,
      "outputs": []
    },
    {
      "cell_type": "code",
      "execution_count": 51,
      "metadata": {
        "id": "TgAYtxt4ylP1"
      },
      "outputs": [],
      "source": [
        "#builtin unperturbed: N=1\n",
        "n=1\n",
        "A=matrix(n,diag,upper,lower)\n",
        "Q,vec_built=np.linalg.eig(A)"
      ]
    },
    {
      "cell_type": "code",
      "execution_count": 52,
      "metadata": {
        "id": "Gpl4-5Ryy1-l"
      },
      "outputs": [],
      "source": [
        "#builtin fixed : n=2\n",
        "n=2\n",
        "A_fixed_bc=matrix_fixed_bc(n,diag,upper,lower,pert)\n",
        "perturb,vec_built_fixed=np.linalg.eig(A_fixed_bc)"
      ]
    },
    {
      "cell_type": "code",
      "source": [
        "perturb"
      ],
      "metadata": {
        "colab": {
          "base_uri": "https://localhost:8080/"
        },
        "id": "OFt99s43L0ys",
        "outputId": "535d729d-6a26-4358-9e3b-bf1729cb7035"
      },
      "execution_count": 53,
      "outputs": [
        {
          "output_type": "execute_result",
          "data": {
            "text/plain": [
              "array([  1.,  -1.,  30.,   0.,   0., -50.])"
            ]
          },
          "metadata": {},
          "execution_count": 53
        }
      ]
    },
    {
      "cell_type": "code",
      "execution_count": 31,
      "metadata": {
        "id": "kPaFGOuXzWk8"
      },
      "outputs": [],
      "source": [
        "n=10\n",
        "perturb=list(perturb)\n",
        "Q=list(Q)\n",
        "for i in range(n-2):\n",
        "  perturb=perturb+Q\n",
        "\n",
        "perturb.sort()\n",
        "perturb=np.array(perturb)\n",
        "\n",
        "A_fixed_bc=matrix_fixed_bc(n,diag,upper,lower,pert)\n",
        "built,vec_built_fixed=np.linalg.eig(A_fixed_bc)\n",
        "\n",
        "built.sort()"
      ]
    },
    {
      "cell_type": "code",
      "execution_count": 54,
      "metadata": {
        "id": "MT6fhTTE5vOy"
      },
      "outputs": [],
      "source": [
        "perturb=list(perturb)\n",
        "Q=list(Q)"
      ]
    },
    {
      "cell_type": "code",
      "source": [
        "len(perturb)"
      ],
      "metadata": {
        "colab": {
          "base_uri": "https://localhost:8080/"
        },
        "id": "h9KwFpIlMCH_",
        "outputId": "79a97f63-e2ac-4ff3-b7f7-28aca848e917"
      },
      "execution_count": 55,
      "outputs": [
        {
          "output_type": "execute_result",
          "data": {
            "text/plain": [
              "6"
            ]
          },
          "metadata": {},
          "execution_count": 55
        }
      ]
    },
    {
      "cell_type": "code",
      "execution_count": 56,
      "metadata": {
        "id": "9f5P7WH44VYX"
      },
      "outputs": [],
      "source": [
        "#Add the graph\n",
        "Err_built=[]\n",
        "N=[]\n",
        "for n in range(3,500,5):\n",
        "  #s=[]\n",
        "  s=perturb+Q\n",
        "  for j in range(n-3):\n",
        "    s=s+Q\n",
        "  s.sort()\n",
        "  s=np.array(s)\n",
        "  #print(\"s= \",len(s))\n",
        "  \n",
        "  A_fixed_bc=matrix_fixed_bc(n,diag,upper,lower,pert)\n",
        "  built,vec_built_fixed=np.linalg.eig(A_fixed_bc)\n",
        "  built.sort()\n",
        "  #print(\"built= \",len(built))\n",
        "  #print(\"s= \",len(s))\n",
        "\n",
        "  e_b=sum(abs(built-s))/(n*k)\n",
        "  Err_built.append(e_b)\n",
        "\n",
        "  N.append(n)\n"
      ]
    },
    {
      "cell_type": "code",
      "execution_count": 57,
      "metadata": {
        "colab": {
          "base_uri": "https://localhost:8080/",
          "height": 295
        },
        "id": "lHpJSw6e_pJM",
        "outputId": "26cb072c-c3b9-4ee2-e46f-cd45b0d08558"
      },
      "outputs": [
        {
          "output_type": "display_data",
          "data": {
            "text/plain": [
              "<Figure size 432x288 with 1 Axes>"
            ],
            "image/png": "[encoded data removed]"
          },
          "metadata": {
            "needs_background": "light"
          }
        }
      ],
      "source": [
        "plt.plot(N,Err_built,\"*\")\n",
        "plt.title(\"Average Absolute Error in Eigenvalues\")\n",
        "plt.xlabel(\"n\")\n",
        "plt.ylabel(\"Average absolute error of builtin eigenvalue\")\n",
        "plt.savefig(\"gamma=0:builtin error:d=[0,0,0],u=[0,0,1],l=[1,1,1],pert=[30,-50].png\")"
      ]
    }
  ],
  "metadata": {
    "colab": {
      "provenance": []
    },
    "kernelspec": {
      "display_name": "Python 3",
      "name": "python3"
    },
    "language_info": {
      "name": "python"
    }
  },
  "nbformat": 4,
  "nbformat_minor": 0
}