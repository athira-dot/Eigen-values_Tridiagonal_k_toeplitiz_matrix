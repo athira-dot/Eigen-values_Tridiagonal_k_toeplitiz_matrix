{
  "cells": [
    {
      "cell_type": "code",
      "execution_count": null,
      "metadata": {
        "id": "0SDWbf9ClUOV"
      },
      "outputs": [],
      "source": [
        "import numpy as np\n",
        "import matplotlib.pyplot as plt\n",
        "import scipy.linalg as sc\n",
        "import cmath"
      ]
    },
    {
      "cell_type": "code",
      "execution_count": null,
      "metadata": {
        "id": "VVP8W0MQnMQ_"
      },
      "outputs": [],
      "source": [
        "def matrix(n,diag,upper,lower):\n",
        "  k=len(diag)\n",
        "  dia=[]\n",
        "  for i in range(n):\n",
        "    for j in range(k):\n",
        "      dia.append(diag[j])\n",
        "\n",
        "  #UPPER\n",
        "  up=[]\n",
        "  for i in range(n):\n",
        "    for j in range(k):\n",
        "      up.append(upper[j])\n",
        "\n",
        "  up=up[:-1]\n",
        "  A=np.diag(dia)\n",
        "\n",
        "\n",
        "  for i in range(int(n*k)-1):\n",
        "    A[i][i+1]=up[i]\n",
        "    A[i+1][i]=up[i]\n",
        "\n",
        "  #N=int(n*k)\n",
        "  #A[0][0]=A[0][0]+pert[0]\n",
        "  #A[N-1][N-1]=A[N-1][N-1]+pert[1]\n",
        "\n",
        "  return(A)"
      ]
    },
    {
      "cell_type": "code",
      "execution_count": null,
      "metadata": {
        "id": "CQgMzmlfulsi"
      },
      "outputs": [],
      "source": [
        "def matrix_fixed_bc(n,diag,upper,lower,pert):\n",
        "  k=len(diag)\n",
        "  dia=[]\n",
        "  for i in range(n):\n",
        "    for j in range(k):\n",
        "      dia.append(diag[j])\n",
        "\n",
        "  #UPPER\n",
        "  up=[]\n",
        "  for i in range(n):\n",
        "    for j in range(k):\n",
        "      up.append(upper[j])\n",
        "\n",
        "  up=up[:-1]\n",
        "  A=np.diag(dia)\n",
        "\n",
        "\n",
        "  for i in range(int(n*k)-1):\n",
        "    A[i][i+1]=up[i]\n",
        "    A[i+1][i]=up[i]\n",
        "\n",
        "  N=int(n*k)\n",
        "  A[0][0]=A[0][0]+pert[0]\n",
        "  A[N-1][N-1]=A[N-1][N-1]+pert[1]\n",
        "\n",
        "  return(A)"
      ]
    },
    {
      "cell_type": "code",
      "execution_count": null,
      "metadata": {
        "id": "SmJmqm82mCJd"
      },
      "outputs": [],
      "source": [
        "def pert(n,k):\n",
        "  u=np.random.rand(int(n*k))#vec[0]#[0.1,0,100]\n",
        "  for i in range(1,int(n*k)-1):\n",
        "    u[i]=0\n",
        "  v=u#[0.1,0,100]\n",
        "  u,v=np.array(u)/(np.linalg.norm(u)),np.array(v)/(np.linalg.norm(v))\n",
        "  v=v.T\n",
        "\n",
        "  v=v.reshape(1,int(n*k))\n",
        "  u=u.reshape(int(n*k),1)\n",
        "\n",
        "  c=(u @ v)\n",
        "\n",
        "  return(c,u)\n",
        "\n",
        "#c=(u @ v.T)"
      ]
    },
    {
      "cell_type": "code",
      "execution_count": null,
      "metadata": {
        "id": "O0Lf8aAevvLx"
      },
      "outputs": [],
      "source": [
        "def qgamma(diag_k,u_k,l_k,k):    #to find gamma  and  Qk(z)\n",
        "  a=diag_k\n",
        "  p=np.multiply(u_k,l_k)\n",
        "  Aim11 =1\n",
        "  Aim12 =0\n",
        "  Aim13 =0\n",
        "  Aim14 =1\n",
        "  for i in range(k):\n",
        "    Ai1 = [1,a[i]]\n",
        "    Ai2 = [0,-p[i]]\n",
        "    Ai3 = [0,1]\n",
        "    Ai4 =  [0,0]\n",
        "    P1 = np.convolve(Aim11,Ai1) +np.convolve(Aim12,Ai3)\n",
        "    P2 = np.convolve(Aim11,Ai2) +np.convolve(Aim12,Ai4)\n",
        "    P3 = np.convolve(Aim13,Ai1) +np.convolve(Aim14,Ai3)\n",
        "    P4 = np.convolve(Aim13,Ai2) +np.convolve(Aim14,Ai4)\n",
        "    Aim11 = P1\n",
        "    Aim12 = P2\n",
        "    Aim13 = P3\n",
        "    Aim14 = P4\n",
        "    #print(P1,P2,P3,P4)\n",
        "    \n",
        "  q=P1+P4  #trace of Uk\n",
        "  gamma1=-np.prod(p)  #gamma1 is the negative of the determinant of Uk\n",
        "  P4=np.array(P4)\n",
        "  return(q,gamma1)"
      ]
    },
    {
      "cell_type": "code",
      "execution_count": null,
      "metadata": {
        "id": "xlD1vmrOvvyI"
      },
      "outputs": [],
      "source": [
        "def chebeig(diag_k,u_k,l_k,k,t):      \n",
        "  n=int(k*t)\n",
        "  q,g=qgamma(diag_k,u_k,l_k,k)\n",
        "  #print(diag_k)\n",
        "  q=np.array(q,dtype=\"complex\")\n",
        "  #print(q,g)\n",
        "  tnroots=np.zeros(int(n/k),dtype=complex)\n",
        "  for l in range(1,int(n/k)+1):\n",
        "    tnroots[l-1]=1j*2*np.cos(np.pi/((n/k)+1)*(l))\n",
        "  #print(tnroots)\n",
        "  zcheb = []  #upto this fine\n",
        "  c0=q[k]\n",
        "  for i in range(int(n/k)):\n",
        "    q[k]=c0+((cmath.sqrt(g))*tnroots[i])\n",
        "    \n",
        "    zcheb=np.concatenate((zcheb,-np.roots(q)))  \n",
        "  #print(g)\n",
        "  #print(np.shape(zcheb))\n",
        "  return(zcheb)"
      ]
    },
    {
      "cell_type": "code",
      "execution_count": null,
      "metadata": {
        "id": "mHfz5nblv0gu"
      },
      "outputs": [],
      "source": [
        "def thomas(A,d):    \n",
        "    m,n=np.shape(A)\n",
        "    a=np.diag(A,-1)\n",
        "    b=np.diag(A)\n",
        "    c=np.diag(A,1)\n",
        "    \n",
        "    a=np.array(a,dtype='complex')\n",
        "    b=np.array(b,dtype='complex')\n",
        "    c=np.array(c,dtype='complex')\n",
        "    d=np.array(d,dtype='complex')\n",
        "    x=np.zeros(m,dtype=\"complex\")\n",
        "    \n",
        "    #forward propogation\n",
        "    for i in range(m-1):\n",
        "        w=a[i]/b[i]\n",
        "        b[i+1]=b[i+1]-(w*c[i])\n",
        "        d[i+1]=d[i+1]-(w*d[i])\n",
        "        \n",
        "    #back substitution\n",
        "    \n",
        "    x[m-1]=d[m-1]/b[m-1]\n",
        "    \n",
        "    for i in range(m-2,-1,-1):\n",
        "        x[i]=(d[i]-(c[i]*x[i+1]))/b[i]\n",
        "        \n",
        "    return(x)"
      ]
    },
    {
      "cell_type": "code",
      "source": [
        "7./3-4./3-1"
      ],
      "metadata": {
        "colab": {
          "base_uri": "https://localhost:8080/"
        },
        "id": "atByR5P6k43R",
        "outputId": "82d62b99-2017-4b1c-86ec-ab33b35e9388"
      },
      "execution_count": null,
      "outputs": [
        {
          "output_type": "execute_result",
          "data": {
            "text/plain": [
              "2.220446049250313e-16"
            ]
          },
          "metadata": {},
          "execution_count": 956
        }
      ]
    },
    {
      "cell_type": "code",
      "execution_count": null,
      "metadata": {
        "id": "wsLC_bM-ODYc"
      },
      "outputs": [],
      "source": [
        "def inv_itr(A,muo):\n",
        "    e_m=7./3-4./3-1  #machine epsion\n",
        "    m,n=np.shape(A)\n",
        "    x=np.ones(m)#np.random.rand(m)\n",
        "    #print(x)\n",
        "    B=(A-muo*np.identity(m))\n",
        "    #check diagonal elements of B are zero or not.If it is zero, add some perturbation.\n",
        "    \n",
        "    for i in range(m):\n",
        "        if((B[i][i])==0):\n",
        "            B[i][i]=B[i][i]+(e_m*10)\n",
        "\n",
        "    for  i in range(10):\n",
        "        v=thomas(B,x)\n",
        "        if((np.linalg.norm(v))==0):\n",
        "            v=np.array(v)#/(np.linalg.norm(v))  #x is the eigen vector.\n",
        "        else:\n",
        "            v=np.array(v)/(np.linalg.norm(v))\n",
        "            \n",
        "    muo=np.transpose(v)@A@v   #muo is the eigen value\n",
        "    return(muo,v)  "
      ]
    },
    {
      "cell_type": "code",
      "execution_count": null,
      "metadata": {
        "id": "KThO8La3i86G"
      },
      "outputs": [],
      "source": [
        "def qgamma_n(diag_k,u_k,l_k,k):    #to find gamma  and  Qk(z)\n",
        "  a=diag_k\n",
        "  p=np.multiply(u_k,l_k)\n",
        "  Aim11 =1\n",
        "  Aim12 =0\n",
        "  Aim13 =0\n",
        "  Aim14 =1\n",
        "  for i in range(k):\n",
        "    Ai1 = [1,a[i]]\n",
        "    Ai2 = [0,-p[i]]\n",
        "    Ai3 = [0,1]\n",
        "    Ai4 =  [0,0]\n",
        "    P1 = np.convolve(Aim11,Ai1) +np.convolve(Aim12,Ai3)\n",
        "    P2 = np.convolve(Aim11,Ai2) +np.convolve(Aim12,Ai4)\n",
        "    P3 = np.convolve(Aim13,Ai1) +np.convolve(Aim14,Ai3)\n",
        "    P4 = np.convolve(Aim13,Ai2) +np.convolve(Aim14,Ai4)\n",
        "    Aim11 = P1\n",
        "    Aim12 = P2\n",
        "    Aim13 = P3\n",
        "    Aim14 = P4\n",
        "    #print(P1,P2,P3,P4)\n",
        "    \n",
        "  q=P1+P4  #trace of Uk\n",
        "  gamma1=-np.prod(p)  #gamma1 is the negative of the determinant of Uk\n",
        "  P4=np.array(P4)\n",
        "  return(P1,P2,P3,P4)"
      ]
    },
    {
      "cell_type": "code",
      "execution_count": null,
      "metadata": {
        "id": "VtsPq_D4jClh"
      },
      "outputs": [],
      "source": [
        "k=3\n",
        "diag=[0,0,0] \n",
        "upper=[0,0,1] #np.random.rand(k) #[5,4,1]#-\n",
        "lower=upper\n",
        "upper,lower,diag=np.array(upper),np.array(lower),np.array(diag)"
      ]
    },
    {
      "cell_type": "markdown",
      "metadata": {
        "id": "N-U9GCzdUeZf"
      },
      "source": [
        "a) do with diag=[0,0,0] \n",
        "upper=[1,0,0]\n",
        "lower=u\n",
        "pert=[100,0],[1,0],wont work when pert between (1,-1)\n",
        "\n",
        "b)d=[1,2,3],l=[1,4,-2]=u\n",
        "\n",
        "c)diag=[10,12,3] \n",
        "upper=[1,41,5],l=u\n",
        "\n",
        "d)diag=[10,12,-3,1,5] \n",
        "upper=[11,41,5,-1,10],l=u\n",
        "\n",
        "e)diag=[19,12,-3,1,500] \n",
        "upper=[11,41,5,-1,10],l=u\n",
        "\n",
        "f)diag=[0,0,0] \n",
        "upper=[1,1,1]"
      ]
    },
    {
      "cell_type": "markdown",
      "metadata": {
        "id": "gfBoA3kqjIto"
      },
      "source": [
        "Direct replacement"
      ]
    },
    {
      "cell_type": "code",
      "execution_count": null,
      "metadata": {
        "id": "3wm2PRB4pd3p"
      },
      "outputs": [],
      "source": [
        "#for small n\n",
        "n=2\n",
        "k=len(diag)\n",
        "pert=[10,0]\n",
        "A=matrix(n,diag,upper,lower)\n",
        "val_cheb=chebeig(diag,upper,lower,k,n)\n",
        "val_cheb.sort()\n",
        "val_built,vec_built=np.linalg.eig(A)\n",
        "val_built.sort()\n",
        "\n",
        "A_fixed_bc=matrix_fixed_bc(n,diag,upper,lower,pert)\n",
        "val_built_fixed,vec_built_fixed=np.linalg.eig(A_fixed_bc)\n",
        "val_built_fixed.sort()"
      ]
    },
    {
      "cell_type": "code",
      "source": [
        "z=abs(val_cheb-val_built_fixed)\n",
        "\n",
        "#index which has the highest replacement\n",
        "ind_0=(np.where(z==max(z))[0])[0]\n",
        "z[ind_0]=0\n",
        "\n",
        "#index which has the second highest replacement\n",
        "ind_1=(np.where(z==max(z))[0])[0]\n",
        "\n",
        "val_cheb_1=val_cheb[ind_0]\n",
        "\n",
        "val_cheb_2=val_cheb[ind_1]\n",
        "\n",
        "val_b_1=val_built_fixed[ind_0]\n",
        "\n",
        "val_b_2=val_built_fixed[ind_1]"
      ],
      "metadata": {
        "id": "YOsvIEywky_H"
      },
      "execution_count": null,
      "outputs": []
    },
    {
      "cell_type": "code",
      "source": [
        "inv_itr(A_fixed_bc,val_b_1)[0]"
      ],
      "metadata": {
        "colab": {
          "base_uri": "https://localhost:8080/"
        },
        "id": "oDJQN16JuWMC",
        "outputId": "0985e7e2-a0dd-4f3c-90a0-8cc1230de541"
      },
      "execution_count": null,
      "outputs": [
        {
          "output_type": "execute_result",
          "data": {
            "text/plain": [
              "(2.4651903288156566e-30+0j)"
            ]
          },
          "metadata": {},
          "execution_count": 1056
        }
      ]
    },
    {
      "cell_type": "code",
      "execution_count": null,
      "metadata": {
        "id": "bt7EKxxHOYZF"
      },
      "outputs": [],
      "source": [
        "N=[10,20,30,40,50,60,70,80,90,100]\n",
        "E_b=[]\n",
        "E_a=[]\n",
        "\n",
        "for n in N:\n",
        "  #perform direct replacement for large n\n",
        "\n",
        "\n",
        "  A=matrix(n,diag,upper,lower)\n",
        "  val_cheb=chebeig(diag,upper,lower,k,n)\n",
        "  val_cheb.sort()\n",
        "  val_built,vec_built=np.linalg.eig(A)\n",
        "  val_built.sort()\n",
        "\n",
        "  A_fixed_bc=matrix_fixed_bc(n,diag,upper,lower,pert)\n",
        "  val_built_fixed,vec_built_fixed=np.linalg.eig(A_fixed_bc)\n",
        "  val_built_fixed.sort()\n",
        "\n",
        "  #error before direct replacement\n",
        "  avg_abs_e_b=sum(abs(val_cheb-val_built_fixed))\n",
        "  avg_abs_e_b=avg_abs_e_b/(n*k)\n",
        "  E_b.append(avg_abs_e_b)\n",
        "\n",
        "\n",
        "  #direct replacement\n",
        "  z_0=abs(val_cheb-val_cheb_1)\n",
        "  ind_rep_0=(np.where(z_0==min(z_0))[0])[0]\n",
        "\n",
        "  z_1=abs(val_cheb-val_cheb_2)\n",
        "  ind_rep_1=(np.where(z_1==min(z_1))[0])[0]\n",
        "\n",
        "  val_cheb[ind_rep_0]=val_b_1\n",
        "  val_cheb[ind_rep_1]=val_b_2\n",
        "  val_cheb.sort()\n",
        "\n",
        "  #error after direct replacement\n",
        "  avg_abs_e_a=sum(abs(val_cheb-val_built_fixed))\n",
        "  avg_abs_e_a=avg_abs_e_a/(n*k)\n",
        "  E_a.append(avg_abs_e_a)"
      ]
    },
    {
      "cell_type": "code",
      "execution_count": null,
      "metadata": {
        "colab": {
          "base_uri": "https://localhost:8080/",
          "height": 283
        },
        "id": "5RQF88asPfqr",
        "outputId": "12004d7f-fee9-487c-b386-f598b11c725f"
      },
      "outputs": [
        {
          "output_type": "display_data",
          "data": {
            "text/plain": [
              "<Figure size 432x288 with 1 Axes>"
            ],
            "image/png": "[encoded data removed]"
          },
          "metadata": {
            "needs_background": "light"
          }
        }
      ],
      "source": [
        "#graphs\n",
        "plt.plot(N,E_a,\"o\",color=\"red\",label=\"direct_replacement\")\n",
        "plt.plot(N,E_b,\"*\",color=\"blue\",label=\"chebyshev approximation\")\n",
        "plt.plot(N,E_i,\"*\",color=\"green\",label=\"inverse_iteration\")\n",
        "plt.xlabel(\"n\")\n",
        "plt.ylabel(\"average absolute error\")\n",
        "plt.legend()\n",
        "\n",
        "plt.savefig(\"inv_itr_d=[0,0,0],l=[0,0,1],u=l,pert=10.png\")"
      ]
    },
    {
      "cell_type": "markdown",
      "source": [
        "Replacement with inverse iteration"
      ],
      "metadata": {
        "id": "0hlQvTsnyz4k"
      }
    },
    {
      "cell_type": "code",
      "source": [
        "N=[10,20,30,40,50,60,70,80,90,100]\n",
        "E_i=[]\n",
        "for n in N:\n",
        "  #perform direct replacement for large n\n",
        "  A=matrix(n,diag,upper,lower)\n",
        "  val_cheb=chebeig(diag,upper,lower,k,n)\n",
        "  val_cheb.sort()\n",
        "  val_built,vec_built=np.linalg.eig(A)\n",
        "  val_built.sort()\n",
        "\n",
        "  A_fixed_bc=matrix_fixed_bc(n,diag,upper,lower,pert)\n",
        "  val_built_fixed,vec_built_fixed=np.linalg.eig(A_fixed_bc)\n",
        "  val_built_fixed.sort()\n",
        "\n",
        "  #inverse iteration\n",
        "  z_0=abs(val_cheb-val_cheb_1)\n",
        "  ind_rep_0=(np.where(z_0==min(z_0))[0])[0]\n",
        "\n",
        "  z_1=abs(val_cheb-val_cheb_2)\n",
        "  ind_rep_1=(np.where(z_1==min(z_1))[0])[0]\n",
        "\n",
        "  val_cheb[ind_rep_0]=inv_itr(A_fixed_bc,val_b_1)[0]\n",
        "  #val_cheb[ind_rep_1]=inv_itr(A_fixed_bc,val_b_2)[0]\n",
        "  val_cheb.sort()\n",
        "\n",
        "  #error after direct replacement\n",
        "  avg_abs_e_i=sum(abs(val_cheb-val_built_fixed))\n",
        "  avg_abs_e_i=avg_abs_e_i/(n*k)\n",
        "  E_i.append(avg_abs_e_i)"
      ],
      "metadata": {
        "id": "4lWalyLXzIhz"
      },
      "execution_count": null,
      "outputs": []
    }
  ],
  "metadata": {
    "colab": {
      "provenance": []
    },
    "kernelspec": {
      "display_name": "Python 3",
      "name": "python3"
    },
    "language_info": {
      "name": "python"
    }
  },
  "nbformat": 4,
  "nbformat_minor": 0
}